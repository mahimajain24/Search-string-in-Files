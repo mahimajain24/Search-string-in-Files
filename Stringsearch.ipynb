{
  "nbformat": 4,
  "nbformat_minor": 0,
  "metadata": {
    "colab": {
      "name": "Stringsearch.ipynb",
      "provenance": [],
      "collapsed_sections": []
    },
    "kernelspec": {
      "name": "python3",
      "display_name": "Python 3"
    },
    "language_info": {
      "name": "python"
    }
  },
  "cells": [
    {
      "cell_type": "code",
      "execution_count": null,
      "metadata": {
        "colab": {
          "base_uri": "https://localhost:8080/"
        },
        "id": "cnpDqK9SRD97",
        "outputId": "6b02e8ae-6972-43f5-dee6-3032142b2722"
      },
      "outputs": [
        {
          "output_type": "stream",
          "name": "stdout",
          "text": [
            "String programming Found in Line 1\n"
          ]
        }
      ],
      "source": [
        "string1='programming'\n",
        "file1=open('/content/drive/MyDrive/demo.txt','r')\n",
        "flag=0\n",
        "index=0\n",
        "for line in file1:\n",
        "    index+=1\n",
        "    if string1 in line:\n",
        "        flag=1\n",
        "        break\n",
        "if flag==0:\n",
        "    print('String', string1, 'Not Found')\n",
        "else:\n",
        "    print('String', string1,'Found in Line', index)\n",
        "file1.close()\n"
      ]
    },
    {
      "cell_type": "code",
      "source": [
        ""
      ],
      "metadata": {
        "id": "0k7k_sUqRhnw"
      },
      "execution_count": null,
      "outputs": []
    }
  ]
}